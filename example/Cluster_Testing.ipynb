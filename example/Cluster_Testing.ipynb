{
 "cells": [
  {
   "cell_type": "code",
   "execution_count": null,
   "metadata": {},
   "outputs": [],
   "source": [
    "import os\n",
    "os.chdir(\"..\")\n",
    "print(os.getcwd())"
   ]
  },
  {
   "cell_type": "code",
   "execution_count": null,
   "metadata": {},
   "outputs": [],
   "source": [
    "import numpy as np\n",
    "import pandas as pd\n",
    "from cluster import KMeans, AutoKMeans, AutoClustering\n",
    "import matplotlib.pyplot as plt"
   ]
  },
  {
   "cell_type": "code",
   "execution_count": null,
   "metadata": {},
   "outputs": [],
   "source": [
    "data = pd.read_csv('./dataset/watermelon4_0a_Ch.txt')\n",
    "print(data.info())\n",
    "data=data.values\n",
    "print(data[0])"
   ]
  },
  {
   "cell_type": "code",
   "execution_count": null,
   "metadata": {},
   "outputs": [],
   "source": [
    "kmeans=KMeans(k=2)\n",
    "kmeans.fit(data)\n",
    "print(\"DBI:\",kmeans.score('DBI'))\n",
    "print(\"DI:\",kmeans.score('DI'))\n",
    "print(\"WSS:\",kmeans.score('WSS'))\n",
    "print()\n",
    "for i in kmeans.cluster_center_list:\n",
    "    print(i)"
   ]
  },
  {
   "cell_type": "code",
   "execution_count": null,
   "metadata": {},
   "outputs": [],
   "source": [
    "autokmeans=AutoKMeans()\n",
    "autokmeans.fit(data)\n",
    "print(\"k:\",autokmeans.k)\n",
    "print(\"DBI:\",autokmeans.score('DBI'))\n",
    "print(\"DI:\",autokmeans.score('DI'))\n",
    "print(\"WSS:\",autokmeans.score('WSS'))\n",
    "print()\n",
    "for i in autokmeans.cluster_center_list:\n",
    "    print(i)"
   ]
  },
  {
   "cell_type": "code",
   "execution_count": null,
   "metadata": {},
   "outputs": [],
   "source": [
    "autoclustering=AutoClustering()\n",
    "autoclustering.fit(data)\n",
    "print(\"k:\",autoclustering.k)\n",
    "print(\"DBI:\",autoclustering.score('DBI'))\n",
    "print(\"DI:\",autoclustering.score('DI'))\n",
    "print(\"WSS:\",autoclustering.score('WSS'))"
   ]
  },
  {
   "cell_type": "code",
   "execution_count": null,
   "metadata": {},
   "outputs": [],
   "source": [
    "import random\n",
    "import numpy as np\n",
    "import matplotlib.pyplot as plt\n",
    "\n",
    "def rotate(a,x):\n",
    "    return np.array([[np.cos(a),-np.sin(a)],[np.sin(a),np.cos(a)]]).dot(x)\n",
    "\n",
    "def ran(wide1,wide2,a):\n",
    "    \n",
    "    dx=random.random() * wide1 * [-1,1][random.randrange(2)]\n",
    "    dy=random.random() * wide2 * (wide1-abs(dx))**0.5 * [-1,1][random.randrange(2)]\n",
    "    return rotate(a,np.array([dx,dy]))\n",
    "\n",
    "def galaxy(nums, x, wx, y, wy, a):\n",
    "    temp=[]\n",
    "    c=np.array([x, y])\n",
    "    for i in range(nums):\n",
    "        temp.append( c + ran(wx, wy, a/180*np.pi) )\n",
    "    return temp\n",
    "\n",
    "X=[]\n",
    "X+=galaxy(70, 1, 4, 2, 1, 30)\n",
    "X+=galaxy(50, 10.5, 3, 5, 0.5, 90)\n",
    "X+=galaxy(70, 0, 2.5, 10, 2.5, 0)\n",
    "X+=galaxy(50, 7, 3.5, 4, 0.2, 60)\n",
    "X+=galaxy(20, 7, 1.2, 9, 1.5, 0)\n",
    "X+=galaxy(70, 9, 4, 12, 0.5, -40)\n",
    "\n",
    "X=np.array(X)\n",
    "\n",
    "plt.scatter(X[:,0],X[:,1])\n",
    "plt.show()"
   ]
  },
  {
   "cell_type": "code",
   "execution_count": null,
   "metadata": {},
   "outputs": [],
   "source": [
    "kmeans=KMeans(6)\n",
    "kmeans.fit(X)\n",
    "kmeans.plot2D()"
   ]
  },
  {
   "cell_type": "code",
   "execution_count": null,
   "metadata": {},
   "outputs": [],
   "source": [
    "autokmeans=AutoKMeans()\n",
    "autokmeans.fit(X)\n",
    "autokmeans.plot2D()"
   ]
  },
  {
   "cell_type": "code",
   "execution_count": null,
   "metadata": {},
   "outputs": [],
   "source": [
    "autoclustering=AutoClustering()\n",
    "autoclustering.fit(X)\n",
    "print(autoclustering.k)\n",
    "print(\"DBI:\",autoclustering.score('DBI'))\n",
    "print(\"DI:\",autoclustering.score('DI'))\n",
    "print(\"WSS:\",autoclustering.score('WSS'))"
   ]
  },
  {
   "cell_type": "code",
   "execution_count": null,
   "metadata": {},
   "outputs": [],
   "source": [
    "plt.figure(dpi=150)\n",
    "autoclustering.plot2D(pause=0)\n",
    "\n",
    "x=np.array([6,10.5])\n",
    "index=autoclustering.predict(x,retrun_index=True)\n",
    "print(index)\n",
    "\n",
    "for i in range(autoclustering.k):\n",
    "    cluster=autoclustering.sample_list[autoclustering.sample_cluster_index_list==i]\n",
    "    plt.text(cluster[0][0],cluster[0][1],str(i))\n",
    "plt.scatter(x[0],x[1])\n",
    "plt.show()"
   ]
  },
  {
   "cell_type": "code",
   "execution_count": null,
   "metadata": {},
   "outputs": [],
   "source": [
    "%matplotlib qt5\n",
    "autoclustering.fit(X,plt_process=True)"
   ]
  }
 ],
 "metadata": {
  "interpreter": {
   "hash": "8c207cf98bc84bffc44ccf9494458b90a53a5c17a03e11155797855f32f2c5f8"
  },
  "kernelspec": {
   "display_name": "Python 3.9.6 64-bit",
   "language": "python",
   "name": "python3"
  },
  "language_info": {
   "codemirror_mode": {
    "name": "ipython",
    "version": 3
   },
   "file_extension": ".py",
   "mimetype": "text/x-python",
   "name": "python",
   "nbconvert_exporter": "python",
   "pygments_lexer": "ipython3",
   "version": "3.9.6"
  },
  "orig_nbformat": 4
 },
 "nbformat": 4,
 "nbformat_minor": 2
}
